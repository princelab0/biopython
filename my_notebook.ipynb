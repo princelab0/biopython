{
 "cells": [
  {
   "cell_type": "code",
   "execution_count": null,
   "id": "4872d87c",
   "metadata": {},
   "outputs": [],
   "source": [
    "import nglview\n",
    "view=nglview.demo()\n",
    "       \n",
    "view.representations = [\n",
    "    {'type': 'backbone', 'params': {\n",
    "        'sele': 'protein', 'color': 'white'\n",
    "    }}\n",
    "]\n",
    "view"
   ]
  }
 ],
 "metadata": {},
 "nbformat": 4,
 "nbformat_minor": 5
}
